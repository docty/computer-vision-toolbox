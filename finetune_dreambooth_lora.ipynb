{
  "metadata": {
    "kernelspec": {
      "name": "python3",
      "display_name": "Python 3",
      "language": "python"
    },
    "language_info": {
      "name": "python",
      "version": "3.11.11",
      "mimetype": "text/x-python",
      "codemirror_mode": {
        "name": "ipython",
        "version": 3
      },
      "pygments_lexer": "ipython3",
      "nbconvert_exporter": "python",
      "file_extension": ".py"
    },
    "colab": {
      "provenance": [],
      "gpuType": "T4"
    },
    "accelerator": "GPU",
    "kaggle": {
      "accelerator": "nvidiaTeslaT4",
      "dataSources": [],
      "dockerImageVersionId": 31011,
      "isInternetEnabled": true,
      "language": "python",
      "sourceType": "notebook",
      "isGpuEnabled": true
    }
  },
  "nbformat_minor": 0,
  "nbformat": 4,
  "cells": [
    {
      "cell_type": "code",
      "source": [
        "from huggingface_hub import notebook_login\n",
        "\n",
        "notebook_login()"
      ],
      "metadata": {
        "id": "aKGO5TwDP120",
        "trusted": true
      },
      "outputs": [],
      "execution_count": null
    },
    {
      "cell_type": "code",
      "source": [
        "!pip install -q datasets"
      ],
      "metadata": {
        "id": "ydtVpyIHBBTJ"
      },
      "execution_count": null,
      "outputs": []
    },
    {
      "cell_type": "code",
      "source": [
        "PROMPT = \"A photo of sks dog\"\n",
        "CLASS_PROMPT = \"A photo of dog\"\n",
        "VAL_PROMPT = \"A photo of sks dog in a bucket\"\n",
        "\n",
        "OUTPUT_DIR=\"dreambooth-dog\"\n",
        "\n",
        "CLASS_DIR=\"path-class-images\"\n",
        "DATASET_NAME = \"jhaochenz/demo_dog\"\n",
        "PRETRAINED_MODEL = \"stable-diffusion-v1-5/stable-diffusion-v1-5\"\n",
        "\n",
        "DATASET_DIR = \"downloaded_images\"\n",
        "IS_FROM_HUGGINGFACE_HUB = True"
      ],
      "metadata": {
        "id": "Znww2Pb6r7s-",
        "trusted": true
      },
      "outputs": [],
      "execution_count": null
    },
    {
      "cell_type": "code",
      "source": [
        "from datasets import load_dataset\n",
        "import os\n",
        "\n",
        "if IS_FROM_HUGGINGFACE_HUB :\n",
        "\n",
        "  ds = load_dataset(DATASET_NAME)\n",
        "  os.makedirs(DATASET_DIR, exist_ok=True)\n",
        "\n",
        "  for idx, item in enumerate(ds['train']):\n",
        "      image = item[\"image\"]\n",
        "      image.save(os.path.join(DATASET_DIR, f\"{idx}.jpg\"))"
      ],
      "metadata": {
        "id": "lbz68U98OxD9",
        "trusted": true
      },
      "outputs": [],
      "execution_count": null
    },
    {
      "cell_type": "code",
      "source": [
        "!pip install -q accelerate>=0.16.0 torchvision  diffusers bitsandbytes fsspec==2025.3.2"
      ],
      "metadata": {
        "id": "a16NnBRxP6y0",
        "trusted": true
      },
      "outputs": [],
      "execution_count": null
    },
    {
      "cell_type": "code",
      "source": [
        "!accelerate config default"
      ],
      "metadata": {
        "id": "yawRP9FYQI6R",
        "trusted": true
      },
      "outputs": [],
      "execution_count": null
    },
    {
      "cell_type": "code",
      "source": [
        "!git clone https://github.com/docty/diffuser-training.git"
      ],
      "metadata": {
        "id": "QBxXoCAIQN_n",
        "trusted": true
      },
      "outputs": [],
      "execution_count": null
    },
    {
      "cell_type": "code",
      "source": [
        "#!git clone https://huggingface.co/Docty/{MODEL_ID}"
      ],
      "metadata": {
        "id": "VzUgHBwxWTGj",
        "trusted": true
      },
      "outputs": [],
      "execution_count": null
    },
    {
      "cell_type": "code",
      "source": [
        "!accelerate launch {os.getcwd()}/diffuser-training/train_dreambooth_lora.py \\\n",
        "  --pretrained_model_name_or_path=\"$PRETRAINED_MODEL\"  \\\n",
        "  --instance_data_dir=\"$DATASET_DIR\" \\\n",
        "  --class_data_dir=\"$CLASS_DIR\" \\\n",
        "  --output_dir=\"$OUTPUT_DIR\" \\\n",
        "  --with_prior_preservation --prior_loss_weight=1.0 \\\n",
        "  --instance_prompt=\"$PROMPT\" \\\n",
        "  --class_prompt=\"$CLASS_PROMPT\" \\\n",
        "  --resolution=128 \\\n",
        "  --train_batch_size=1 \\\n",
        "  --gradient_accumulation_steps=1 --gradient_checkpointing \\\n",
        "  --checkpointing_steps=100 \\\n",
        "  --use_8bit_adam \\\n",
        "  --learning_rate=1e-4 \\\n",
        "  --lr_scheduler=\"constant\" \\\n",
        "  --lr_warmup_steps=0 \\\n",
        "  --num_class_images=200 \\\n",
        "  --max_train_steps=500 \\\n",
        "  --validation_prompt=\"$VAL_PROMPT\"  \\\n",
        "  --validation_epochs=50 \\\n",
        "  --resume_from_checkpoint='latest' \\\n",
        "  --checkpoints_total_limit=1 \\\n",
        "  --seed=0 \\\n",
        "  --push_to_hub"
      ],
      "metadata": {
        "id": "3sh7FRUaCjou"
      },
      "execution_count": null,
      "outputs": []
    },
    {
      "cell_type": "markdown",
      "source": [
        "# Inference"
      ],
      "metadata": {
        "id": "CULI4CqvvzWL"
      }
    },
    {
      "cell_type": "code",
      "source": [
        "from huggingface_hub.repocard import RepoCard\n",
        "from diffusers import StableDiffusionPipeline\n",
        "import torch\n",
        "\n",
        "MODEL_ID = OUTPUT_DIR\n",
        "lora_model_id = f\"Docty/{MODEL_ID}\"\n",
        "card = RepoCard.load(lora_model_id)\n",
        "base_model_id = card.data.to_dict()[\"base_model\"]\n",
        "\n",
        "pipe = StableDiffusionPipeline.from_pretrained(base_model_id, torch_dtype=torch.float16)\n",
        "pipe = pipe.to(\"cuda\")\n",
        "pipe.load_lora_weights(lora_model_id)"
      ],
      "metadata": {
        "id": "B0KxQ80p3d20",
        "trusted": true
      },
      "outputs": [],
      "execution_count": null
    },
    {
      "cell_type": "code",
      "source": [
        "prompt = \"A photo of sks dog playing football\"\n",
        "\n",
        "image = pipe(prompt, num_inference_steps=50).images[0]\n",
        "image"
      ],
      "metadata": {
        "id": "11nRpjkt3sZS",
        "trusted": true
      },
      "outputs": [],
      "execution_count": null
    }
  ]
}