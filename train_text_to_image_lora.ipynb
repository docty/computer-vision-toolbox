{
  "nbformat": 4,
  "nbformat_minor": 0,
  "metadata": {
    "colab": {
      "provenance": [],
      "gpuType": "T4"
    },
    "kernelspec": {
      "name": "python3",
      "display_name": "Python 3"
    },
    "language_info": {
      "name": "python"
    },
    "accelerator": "GPU"
  },
  "cells": [
    {
      "cell_type": "code",
      "source": [
        "!pip install -q accelerate>=0.16.0 torchvision datasets diffusers tensorboard"
      ],
      "metadata": {
        "id": "mPVWnNU0pW_3"
      },
      "execution_count": null,
      "outputs": []
    },
    {
      "cell_type": "code",
      "source": [
        "from huggingface_hub import notebook_login\n",
        "\n",
        "notebook_login()"
      ],
      "metadata": {
        "id": "0DjmT_bRpbYV"
      },
      "execution_count": null,
      "outputs": []
    },
    {
      "cell_type": "code",
      "source": [
        "!accelerate config default"
      ],
      "metadata": {
        "id": "_PTN1nQzpedu"
      },
      "execution_count": null,
      "outputs": []
    },
    {
      "cell_type": "code",
      "source": [
        "!git clone https://github.com/docty/diffuser-training.git"
      ],
      "metadata": {
        "id": "QgfBMUMUrIsI"
      },
      "execution_count": null,
      "outputs": []
    },
    {
      "cell_type": "code",
      "source": [
        "!accelerate launch  /content/diffuser-training/train_text_to_image_lora.py \\\n",
        "  --pretrained_model_name_or_path=\"CompVis/stable-diffusion-v1-4\" \\\n",
        "  --dataset_name=\"lambdalabs/naruto-blip-captions\" --caption_column=\"text\" \\\n",
        "  --resolution=512 --random_flip \\\n",
        "  --train_batch_size=1 \\\n",
        "  --num_train_epochs=2 --checkpointing_steps=5000 \\\n",
        "  --learning_rate=1e-04 --lr_scheduler=\"constant\" --lr_warmup_steps=0 \\\n",
        "  --seed=42 \\\n",
        "  --output_dir=\"sd-naruto-model-lora\" \\\n",
        "  --validation_prompt=\"cute dragon creature\""
      ],
      "metadata": {
        "id": "G-_1QCAQrK0B"
      },
      "execution_count": null,
      "outputs": []
    },
    {
      "cell_type": "code",
      "source": [
        "from huggingface_hub import upload_folder\n",
        "import os\n",
        "\n",
        "directory = os.path.join(os.getcwd(), 'sd-naruto-model-lora')\n",
        "\n",
        "upload_folder(folder_path=directory, repo_id='Docty/naruto-lora')"
      ],
      "metadata": {
        "id": "NHEBTg4KprQB"
      },
      "execution_count": null,
      "outputs": []
    }
  ]
}