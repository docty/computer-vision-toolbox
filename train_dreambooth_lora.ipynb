{
  "nbformat": 4,
  "nbformat_minor": 0,
  "metadata": {
    "colab": {
      "provenance": [],
      "gpuType": "T4"
    },
    "kernelspec": {
      "name": "python3",
      "display_name": "Python 3"
    },
    "language_info": {
      "name": "python"
    },
    "accelerator": "GPU"
  },
  "cells": [
    {
      "cell_type": "code",
      "execution_count": null,
      "metadata": {
        "id": "aKGO5TwDP120"
      },
      "outputs": [],
      "source": [
        "from huggingface_hub import notebook_login\n",
        "\n",
        "notebook_login()"
      ]
    },
    {
      "cell_type": "code",
      "source": [
        "!pip install -q accelerate>=0.16.0 torchvision datasets diffusers  bitsandbytes"
      ],
      "metadata": {
        "id": "a16NnBRxP6y0"
      },
      "execution_count": null,
      "outputs": []
    },
    {
      "cell_type": "code",
      "source": [
        "!accelerate config default"
      ],
      "metadata": {
        "id": "yawRP9FYQI6R"
      },
      "execution_count": null,
      "outputs": []
    },
    {
      "cell_type": "code",
      "source": [
        "!git clone https://github.com/docty/diffuser-training.git"
      ],
      "metadata": {
        "id": "QBxXoCAIQN_n"
      },
      "execution_count": null,
      "outputs": []
    },
    {
      "cell_type": "code",
      "source": [
        "from huggingface_hub import snapshot_download\n",
        "\n",
        "local_dir = \"./dog\"\n",
        "snapshot_download(\n",
        "    \"diffusers/dog-example\",\n",
        "    local_dir=local_dir, repo_type=\"dataset\",\n",
        "    ignore_patterns=\".gitattributes\",\n",
        ")"
      ],
      "metadata": {
        "id": "jWKoiYY0QkVn"
      },
      "execution_count": null,
      "outputs": []
    },
    {
      "cell_type": "code",
      "source": [
        "import shutil\n",
        "shutil.rmtree('/content/dog/.cache')"
      ],
      "metadata": {
        "id": "gAYureXpS5zL"
      },
      "execution_count": null,
      "outputs": []
    },
    {
      "cell_type": "code",
      "source": [
        "!accelerate launch /content/diffuser-training/train_dreambooth_lora.py \\\n",
        "  --pretrained_model_name_or_path=\"stable-diffusion-v1-5/stable-diffusion-v1-5\"  \\\n",
        "  --instance_data_dir=\"dog\" \\\n",
        "  --output_dir=\"dreambooth-model-lora\" \\\n",
        "  --instance_prompt=\"a photo of sks dog\" \\\n",
        "  --resolution=128 \\\n",
        "  --train_batch_size=1 \\\n",
        "  --gradient_accumulation_steps=1 \\\n",
        "  --checkpointing_steps=100 \\\n",
        "  --learning_rate=1e-4 \\\n",
        "  --lr_scheduler=\"constant\" \\\n",
        "  --lr_warmup_steps=0 \\\n",
        "  --max_train_steps=500 \\\n",
        "  --validation_prompt=\"A photo of sks dog in a bucket\" \\\n",
        "  --validation_epochs=50 \\\n",
        "  --seed=\"0\" \\\n",
        "  --push_to_hub"
      ],
      "metadata": {
        "id": "bQmSJiaI0kqY"
      },
      "execution_count": null,
      "outputs": []
    },
    {
      "cell_type": "markdown",
      "source": [
        "# Inference"
      ],
      "metadata": {
        "id": "CULI4CqvvzWL"
      }
    },
    {
      "cell_type": "code",
      "source": [
        "import torch\n",
        "from diffusers import DiffusionPipeline\n",
        "\n",
        "pipe = DiffusionPipeline.from_pretrained(\"stable-diffusion-v1-5/stable-diffusion-v1-5\").to(\"cuda\")\n",
        "pipe.load_lora_weights(\"Docty/dreambooth-model-lora\")\n"
      ],
      "metadata": {
        "id": "Z2o-QWuNvTR6"
      },
      "execution_count": null,
      "outputs": []
    },
    {
      "cell_type": "code",
      "source": [
        "prompt = \"A picture of a sks dog in a bucket\"\n",
        "image = pipe(prompt, num_inference_steps=25).images[0]\n",
        "#image.save(\"dog-bucket.png\")\n",
        "image"
      ],
      "metadata": {
        "id": "zBiG3I5FvwFi"
      },
      "execution_count": null,
      "outputs": []
    },
    {
      "cell_type": "code",
      "source": [
        "from huggingface_hub.repocard import RepoCard\n",
        "from diffusers import StableDiffusionPipeline\n",
        "import torch\n",
        "\n",
        "lora_model_id = \"Docty/dreambooth-model-lora\"\n",
        "card = RepoCard.load(lora_model_id)\n",
        "base_model_id = card.data.to_dict()[\"base_model\"]\n",
        "\n",
        "pipe = StableDiffusionPipeline.from_pretrained(base_model_id, torch_dtype=torch.float16)\n",
        "pipe = pipe.to(\"cuda\")\n",
        "pipe.load_lora_weights(lora_model_id)"
      ],
      "metadata": {
        "id": "B0KxQ80p3d20"
      },
      "execution_count": null,
      "outputs": []
    },
    {
      "cell_type": "code",
      "source": [
        "image = pipe(\"A picture of a sks dog in a bucket\", num_inference_steps=25).images[0]\n",
        "image"
      ],
      "metadata": {
        "id": "11nRpjkt3sZS"
      },
      "execution_count": null,
      "outputs": []
    }
  ]
}