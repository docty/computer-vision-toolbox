{
  "nbformat": 4,
  "nbformat_minor": 0,
  "metadata": {
    "colab": {
      "provenance": [],
      "gpuType": "T4"
    },
    "kernelspec": {
      "name": "python3",
      "display_name": "Python 3"
    },
    "language_info": {
      "name": "python"
    },
    "accelerator": "GPU"
  },
  "cells": [
    {
      "cell_type": "code",
      "execution_count": null,
      "metadata": {
        "id": "aKGO5TwDP120"
      },
      "outputs": [],
      "source": [
        "from huggingface_hub import notebook_login\n",
        "\n",
        "notebook_login()"
      ]
    },
    {
      "cell_type": "code",
      "source": [
        "!pip install -q accelerate>=0.16.0 torchvision datasets diffusers tensorboard bitsandbytes"
      ],
      "metadata": {
        "id": "a16NnBRxP6y0"
      },
      "execution_count": null,
      "outputs": []
    },
    {
      "cell_type": "code",
      "source": [
        "!accelerate config default"
      ],
      "metadata": {
        "id": "yawRP9FYQI6R"
      },
      "execution_count": null,
      "outputs": []
    },
    {
      "cell_type": "code",
      "source": [
        "!git clone https://github.com/docty/diffuser-training.git"
      ],
      "metadata": {
        "id": "QBxXoCAIQN_n"
      },
      "execution_count": null,
      "outputs": []
    },
    {
      "cell_type": "code",
      "source": [
        "from huggingface_hub import snapshot_download\n",
        "\n",
        "local_dir = \"./dog\"\n",
        "snapshot_download(\n",
        "    \"diffusers/dog-example\",\n",
        "    local_dir=local_dir, repo_type=\"dataset\",\n",
        "    ignore_patterns=\".gitattributes\",\n",
        ")"
      ],
      "metadata": {
        "id": "jWKoiYY0QkVn"
      },
      "execution_count": null,
      "outputs": []
    },
    {
      "cell_type": "code",
      "source": [
        "import shutil\n",
        "shutil.rmtree('/content/dog/.cache')"
      ],
      "metadata": {
        "id": "gAYureXpS5zL"
      },
      "execution_count": null,
      "outputs": []
    },
    {
      "cell_type": "code",
      "source": [
        "!accelerate launch /content/diffuser-training/train_dreambooth.py \\\n",
        "  --pretrained_model_name_or_path=\"CompVis/stable-diffusion-v1-4\"  \\\n",
        "  --instance_data_dir=\"dog\" \\\n",
        "  --class_data_dir=\"path-to-class-images\" \\\n",
        "  --output_dir=\"dreambooth-model\" \\\n",
        "  --with_prior_preservation --prior_loss_weight=1.0 \\\n",
        "  --instance_prompt=\"a photo of sks dog\" \\\n",
        "  --class_prompt=\"a photo of dog\" \\\n",
        "  --resolution=128 \\\n",
        "  --train_batch_size=1 \\\n",
        "  --gradient_accumulation_steps=2 --gradient_checkpointing \\\n",
        "  --use_8bit_adam \\\n",
        "  --learning_rate=5e-6 \\\n",
        "  --lr_scheduler=\"constant\" \\\n",
        "  --lr_warmup_steps=0 \\\n",
        "  --num_class_images=200 \\\n",
        "  --max_train_steps=800 \\\n",
        "  --push_to_hub"
      ],
      "metadata": {
        "id": "xSJi-i0Ohv4U"
      },
      "execution_count": null,
      "outputs": []
    },
    {
      "cell_type": "markdown",
      "source": [
        "# Inference"
      ],
      "metadata": {
        "id": "CULI4CqvvzWL"
      }
    },
    {
      "cell_type": "code",
      "source": [
        "from diffusers import StableDiffusionPipeline\n",
        "import torch\n",
        "model_id = \"Docty/dreambooth-model\"\n",
        "pipe = StableDiffusionPipeline.from_pretrained(model_id, torch_dtype=torch.float16).to(\"cuda\")\n"
      ],
      "metadata": {
        "id": "Z2o-QWuNvTR6"
      },
      "execution_count": null,
      "outputs": []
    },
    {
      "cell_type": "code",
      "source": [
        "prompt = \"A photo of   pipe sitting under the sea\"\n",
        "image = pipe(prompt, num_inference_steps=50, guidance_scale=7.5).images[0]\n",
        "\n",
        "#image.save(\"dog-bucket.png\")\n",
        "image"
      ],
      "metadata": {
        "id": "zBiG3I5FvwFi"
      },
      "execution_count": null,
      "outputs": []
    }
  ]
}