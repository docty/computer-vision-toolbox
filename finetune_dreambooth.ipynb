{
  "cells": [
    {
      "cell_type": "code",
      "execution_count": null,
      "metadata": {
        "id": "aKGO5TwDP120",
        "trusted": true
      },
      "outputs": [],
      "source": [
        "from huggingface_hub import notebook_login\n",
        "\n",
        "notebook_login()"
      ]
    },
    {
      "cell_type": "code",
      "execution_count": null,
      "metadata": {
        "id": "ydtVpyIHBBTJ"
      },
      "outputs": [],
      "source": [
        "!pip install -q datasets"
      ]
    },
    {
      "cell_type": "code",
      "execution_count": null,
      "metadata": {
        "id": "Znww2Pb6r7s-",
        "trusted": true
      },
      "outputs": [],
      "source": [
        "PROMPT = \"a photo of sks dog\"\n",
        "CLASS_PROMPT = \"a photo of dog\"\n",
        "OUTPUT_DIR=\"dreambooth-dog\"\n",
        "\n",
        "CLASS_DIR=\"class-images\"\n",
        "DATASET_NAME = \"jhaochenz/demo_dog\"\n",
        "PRETRAINED_MODEL = \"CompVis/stable-diffusion-v1-4\"\n",
        "\n",
        "DATASET_DIR = \"downloaded_images\"\n",
        "IS_FROM_HUGGINGFACE_HUB = True"
      ]
    },
    {
      "cell_type": "code",
      "execution_count": null,
      "metadata": {
        "id": "lbz68U98OxD9",
        "trusted": true
      },
      "outputs": [],
      "source": [
        "from datasets import load_dataset\n",
        "import os\n",
        "\n",
        "if IS_FROM_HUGGINGFACE_HUB :\n",
        "\n",
        "  ds = load_dataset(DATASET_NAME)\n",
        "  os.makedirs(DATASET_DIR, exist_ok=True)\n",
        "\n",
        "  for idx, item in enumerate(ds['train']):\n",
        "      image = item[\"image\"]\n",
        "      image.save(os.path.join(DATASET_DIR, f\"{idx}.jpg\"))"
      ]
    },
    {
      "cell_type": "code",
      "execution_count": null,
      "metadata": {
        "id": "a16NnBRxP6y0",
        "trusted": true
      },
      "outputs": [],
      "source": [
        "!pip install -q accelerate>=0.16.0 torchvision  diffusers bitsandbytes fsspec==2025.3.2"
      ]
    },
    {
      "cell_type": "code",
      "execution_count": null,
      "metadata": {
        "id": "yawRP9FYQI6R",
        "trusted": true
      },
      "outputs": [],
      "source": [
        "!accelerate config default"
      ]
    },
    {
      "cell_type": "code",
      "execution_count": null,
      "metadata": {
        "id": "QBxXoCAIQN_n",
        "trusted": true
      },
      "outputs": [],
      "source": [
        "!git clone https://github.com/docty/diffuser-training.git"
      ]
    },
    {
      "cell_type": "code",
      "execution_count": null,
      "metadata": {
        "id": "VzUgHBwxWTGj",
        "trusted": true
      },
      "outputs": [],
      "source": [
        "#!git clone https://huggingface.co/Docty/{MODEL_ID}"
      ]
    },
    {
      "cell_type": "code",
      "execution_count": null,
      "metadata": {
        "id": "3sh7FRUaCjou"
      },
      "outputs": [],
      "source": [
        "!accelerate launch {os.getcwd()}/diffuser-training/train_dreambooth.py \\\n",
        "  --pretrained_model_name_or_path=\"$PRETRAINED_MODEL\"  \\\n",
        "  --instance_data_dir=\"$DATASET_DIR\" \\\n",
        "  --class_data_dir=\"$CLASS_DIR\" \\\n",
        "  --output_dir=\"$OUTPUT_DIR\" \\\n",
        "  --with_prior_preservation --prior_loss_weight=1.0 \\\n",
        "  --instance_prompt=\"$PROMPT\" \\\n",
        "  --class_prompt=\"$CLASS_PROMPT\" \\\n",
        "  --resolution=128 \\\n",
        "  --train_batch_size=1 \\\n",
        "  --gradient_accumulation_steps=2 --gradient_checkpointing \\\n",
        "  --use_8bit_adam \\\n",
        "  --learning_rate=5e-6 \\\n",
        "  --lr_scheduler=\"constant\" \\\n",
        "  --lr_warmup_steps=0 \\\n",
        "  --num_class_images=200 \\\n",
        "  --max_train_steps=800 \\\n",
        "  --resume_from_checkpoint='latest' \\\n",
        "  --checkpoints_total_limit=1 \\\n",
        "  --push_to_hub"
      ]
    },
    {
      "cell_type": "markdown",
      "metadata": {
        "id": "CULI4CqvvzWL"
      },
      "source": [
        "# Inference"
      ]
    },
    {
      "cell_type": "code",
      "execution_count": null,
      "metadata": {
        "id": "B0KxQ80p3d20",
        "trusted": true
      },
      "outputs": [],
      "source": [
        "from huggingface_hub.repocard import RepoCard\n",
        "from diffusers import StableDiffusionPipeline\n",
        "import torch\n",
        "\n",
        "MODEL_ID = OUTPUT_DIR\n",
        "hub_model_id = f\"Docty/{MODEL_ID}\"\n",
        "card = RepoCard.load(hub_model_id)\n",
        "base_model_id = card.data.to_dict()[\"base_model\"]\n",
        "\n",
        "pipe = StableDiffusionPipeline.from_pretrained(base_model_id, torch_dtype=torch.float16)\n",
        "pipe = pipe.to(\"cuda\") "
      ]
    },
    {
      "cell_type": "code",
      "execution_count": null,
      "metadata": {
        "id": "11nRpjkt3sZS",
        "trusted": true
      },
      "outputs": [],
      "source": [
        "prompt = \"A photo of sks dog playing football\"\n",
        "\n",
        "image = pipe(prompt, num_inference_steps=50,  guidance_scale=7.5).images[0]\n",
        "image"
      ]
    }
  ],
  "metadata": {
    "accelerator": "GPU",
    "colab": {
      "gpuType": "T4",
      "provenance": []
    },
    "kaggle": {
      "accelerator": "nvidiaTeslaT4",
      "dataSources": [],
      "dockerImageVersionId": 31011,
      "isGpuEnabled": true,
      "isInternetEnabled": true,
      "language": "python",
      "sourceType": "notebook"
    },
    "kernelspec": {
      "display_name": "Python 3",
      "language": "python",
      "name": "python3"
    },
    "language_info": {
      "codemirror_mode": {
        "name": "ipython",
        "version": 3
      },
      "file_extension": ".py",
      "mimetype": "text/x-python",
      "name": "python",
      "nbconvert_exporter": "python",
      "pygments_lexer": "ipython3",
      "version": "3.11.11"
    }
  },
  "nbformat": 4,
  "nbformat_minor": 0
}
